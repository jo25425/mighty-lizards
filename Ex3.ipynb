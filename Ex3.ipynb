{
 "cells": [
  {
   "cell_type": "markdown",
   "metadata": {},
   "source": [
    "# Machine Learning Exercises in Python\n",
    "# Part 3: Logistic Regression\n",
    "\n",
    "http://www.johnwittenauer.net/machine-learning-exercises-in-python-part-3/"
   ]
  },
  {
   "cell_type": "code",
   "execution_count": 1,
   "metadata": {
    "collapsed": true
   },
   "outputs": [],
   "source": [
    "import os\n",
    "import numpy as np\n",
    "import pandas as pd\n",
    "import matplotlib.pyplot as plt\n",
    "\n",
    "%matplotlib inline\n",
    "\n",
    "ex_dir = lambda n: '~/courses/Machine Learning/machine-learning-ex{}/ex{}'.format(n, n)"
   ]
  },
  {
   "cell_type": "markdown",
   "metadata": {},
   "source": [
    "## Logistic Regression"
   ]
  },
  {
   "cell_type": "markdown",
   "metadata": {},
   "source": [
    "### Visualising the data"
   ]
  },
  {
   "cell_type": "code",
   "execution_count": 3,
   "metadata": {
    "collapsed": false
   },
   "outputs": [
    {
     "name": "stdout",
     "output_type": "stream",
     "text": [
      "False\n"
     ]
    },
    {
     "data": {
      "text/html": [
       "<div>\n",
       "<table border=\"1\" class=\"dataframe\">\n",
       "  <thead>\n",
       "    <tr style=\"text-align: right;\">\n",
       "      <th></th>\n",
       "      <th>Exam 1</th>\n",
       "      <th>Exam 2</th>\n",
       "      <th>Admitted</th>\n",
       "    </tr>\n",
       "  </thead>\n",
       "  <tbody>\n",
       "    <tr>\n",
       "      <th>0</th>\n",
       "      <td>34.623660</td>\n",
       "      <td>78.024693</td>\n",
       "      <td>0</td>\n",
       "    </tr>\n",
       "    <tr>\n",
       "      <th>1</th>\n",
       "      <td>30.286711</td>\n",
       "      <td>43.894998</td>\n",
       "      <td>0</td>\n",
       "    </tr>\n",
       "    <tr>\n",
       "      <th>2</th>\n",
       "      <td>35.847409</td>\n",
       "      <td>72.902198</td>\n",
       "      <td>0</td>\n",
       "    </tr>\n",
       "    <tr>\n",
       "      <th>3</th>\n",
       "      <td>60.182599</td>\n",
       "      <td>86.308552</td>\n",
       "      <td>1</td>\n",
       "    </tr>\n",
       "    <tr>\n",
       "      <th>4</th>\n",
       "      <td>79.032736</td>\n",
       "      <td>75.344376</td>\n",
       "      <td>1</td>\n",
       "    </tr>\n",
       "  </tbody>\n",
       "</table>\n",
       "</div>"
      ],
      "text/plain": [
       "      Exam 1     Exam 2  Admitted\n",
       "0  34.623660  78.024693         0\n",
       "1  30.286711  43.894998         0\n",
       "2  35.847409  72.902198         0\n",
       "3  60.182599  86.308552         1\n",
       "4  79.032736  75.344376         1"
      ]
     },
     "execution_count": 3,
     "metadata": {},
     "output_type": "execute_result"
    }
   ],
   "source": [
    "path = ex_dir(2) + '/ex2data1.txt'\n",
    "data = pd.read_csv(path, header=None, names=['Exam 1', 'Exam 2', 'Admitted'])  \n",
    "data.head()"
   ]
  },
  {
   "cell_type": "code",
   "execution_count": 3,
   "metadata": {
    "collapsed": false
   },
   "outputs": [
    {
     "name": "stdout",
     "output_type": "stream",
     "text": [
      "100 training examples: 60 positive, 40 negative\n"
     ]
    }
   ],
   "source": [
    "# positive = data[data['Admitted'].map(lambda x: bool(x))]\n",
    "positive = data[(data['Admitted'] == 1)]\n",
    "negative = data[(data['Admitted'] == 0)]\n",
    "print('{} training examples: {} positive, {} negative'.format(\n",
    "        len(data), len(positive), len(negative)))"
   ]
  },
  {
   "cell_type": "code",
   "execution_count": 4,
   "metadata": {
    "collapsed": false
   },
   "outputs": [
    {
     "data": {
      "text/plain": [
       "<matplotlib.text.Text at 0x1178152e8>"
      ]
     },
     "execution_count": 4,
     "metadata": {},
     "output_type": "execute_result"
    },
    {
     "data": {
      "image/png": "[encoded data removed]",
      "text/plain": [
       "<matplotlib.figure.Figure at 0x1177ef1d0>"
      ]
     },
     "metadata": {},
     "output_type": "display_data"
    }
   ],
   "source": [
    "fig, ax = plt.subplots(figsize=(10,6))  \n",
    "ax.scatter(positive['Exam 1'], positive['Exam 2'], s=50, c='g', marker='o', label='Admitted')  \n",
    "ax.scatter(negative['Exam 1'], negative['Exam 2'], s=50, c='r', marker='x', label='Not Admitted')  \n",
    "ax.legend()  \n",
    "ax.set_xlabel('Exam 1 Score')  \n",
    "ax.set_ylabel('Exam 2 Score')  "
   ]
  },
  {
   "cell_type": "markdown",
   "metadata": {},
   "source": [
    "### Sigmoid and cost functions"
   ]
  },
  {
   "cell_type": "code",
   "execution_count": 5,
   "metadata": {
    "collapsed": false
   },
   "outputs": [
    {
     "data": {
      "text/plain": [
       "array([[ 0.04742587,  1.        ],\n",
       "       [ 0.99330715,  0.64565631]])"
      ]
     },
     "execution_count": 5,
     "metadata": {},
     "output_type": "execute_result"
    }
   ],
   "source": [
    "def sigmoid(z):\n",
    "    return 1. / (1 + np.exp(-1 * z))\n",
    "\n",
    "# Check that it works on arrays\n",
    "sigmoid(np.array([[-3, 40], [5, 0.6]]))"
   ]
  },
  {
   "cell_type": "code",
   "execution_count": 6,
   "metadata": {
    "collapsed": false
   },
   "outputs": [
    {
     "data": {
      "text/plain": [
       "[<matplotlib.lines.Line2D at 0x1178755c0>]"
      ]
     },
     "execution_count": 6,
     "metadata": {},
     "output_type": "execute_result"
    },
    {
     "data": {
      "image/png": "[encoded data removed]",
      "text/plain": [
       "<matplotlib.figure.Figure at 0x117875320>"
      ]
     },
     "metadata": {},
     "output_type": "display_data"
    }
   ],
   "source": [
    "nums = np.arange(-10, 10)\n",
    "fig, ax = plt.subplots(figsize=(10,3))  \n",
    "ax.plot(nums, sigmoid(nums), c='r')"
   ]
  },
  {
   "cell_type": "code",
   "execution_count": 16,
   "metadata": {
    "collapsed": false
   },
   "outputs": [
    {
     "name": "stdout",
     "output_type": "stream",
     "text": [
      "Theta = [[ 0.  0.  0.]] => cost = 0.6931471805599453\n"
     ]
    }
   ],
   "source": [
    "def prepareData(data):\n",
    "    if not 'Ones' in data:\n",
    "        data.insert(0, 'Ones', 1)\n",
    "    \n",
    "    cols = data.shape[1]\n",
    "    X = np.matrix(data.iloc[:,0:cols-1].values)\n",
    "    y = np.matrix(data.iloc[:,cols-1:cols].values)\n",
    "    return X, y\n",
    "\n",
    "def cost(X, y, theta):\n",
    "    h_x = sigmoid(X * theta.T)\n",
    "    term1 = -y.T * (np.log(h_x))\n",
    "    term2 = (1 - y).T * (np.log(1 - h_x))\n",
    "    return (term1 - term2)[0,0] / len(X)\n",
    "\n",
    "theta = np.matrix(np.zeros(3))\n",
    "X, y = prepareData(data)\n",
    "print('Theta = {} => cost = {}'.format(theta, cost(X, y, theta)))"
   ]
  },
  {
   "cell_type": "markdown",
   "metadata": {},
   "source": [
    "### Gradient descent"
   ]
  },
  {
   "cell_type": "markdown",
   "metadata": {},
   "source": [
    "Note: When using Octave, the function \"fminunc\" is used to optimize the parameters given functions to compute the cost and the gradients. In Python, we can use SciPy's optimization API to do the same thing. Therefore, the \"gradient\" function only computes the adjustment to theta for **1 step** of gradient descent."
   ]
  },
  {
   "cell_type": "code",
   "execution_count": 13,
   "metadata": {
    "collapsed": true
   },
   "outputs": [],
   "source": [
    "def gradient(X, y, theta):\n",
    "    parameters = int(theta.ravel().shape[1])\n",
    "    grad = np.zeros(parameters)\n",
    "    \n",
    "    error = sigmoid(X * theta.T) - y\n",
    "\n",
    "    for i in range(parameters):\n",
    "        term = np.multiply(error, X[:,i])\n",
    "        grad[i] = np.sum(term) / X.shape[0]\n",
    "\n",
    "    return grad"
   ]
  },
  {
   "cell_type": "code",
   "execution_count": 21,
   "metadata": {
    "collapsed": false
   },
   "outputs": [
    {
     "name": "stdout",
     "output_type": "stream",
     "text": [
      "Final cost: 0.203497701589\n"
     ]
    }
   ],
   "source": [
    "import scipy.optimize as opt\n",
    "\n",
    "# Write some wrappers to match formats used by the scipy.optimize function\n",
    "cost_bis = lambda theta, X, y: cost(X, y, np.matrix(theta))\n",
    "gradient_bis = lambda theta, X, y: gradient(X, y, np.matrix(theta))\n",
    "\n",
    "result = opt.fmin_tnc(func=cost_bis, x0=np.zeros(3), fprime=gradient_bis, args=(X, y))\n",
    "final_theta = np.matrix(result[0])\n",
    "print('Final cost:', cost(X, y, final_theta))"
   ]
  },
  {
   "cell_type": "markdown",
   "metadata": {
    "collapsed": true
   },
   "source": [
    "### Predictions"
   ]
  },
  {
   "cell_type": "code",
   "execution_count": 24,
   "metadata": {
    "collapsed": true
   },
   "outputs": [],
   "source": [
    "def predict(X, theta, threshold=0.5):\n",
    "    probabilities = sigmoid(X * theta.T)\n",
    "    return [1 if p > threshold else 0 for p in probabilities]"
   ]
  },
  {
   "cell_type": "code",
   "execution_count": 25,
   "metadata": {
    "collapsed": false
   },
   "outputs": [],
   "source": [
    "predictions = predict(X, final_theta)"
   ]
  },
  {
   "cell_type": "markdown",
   "metadata": {},
   "source": [
    "### Evaluation"
   ]
  },
  {
   "cell_type": "code",
   "execution_count": 30,
   "metadata": {
    "collapsed": false
   },
   "outputs": [
    {
     "name": "stdout",
     "output_type": "stream",
     "text": [
      "Accuracy = 89.0%\n"
     ]
    }
   ],
   "source": [
    "# Accuracy\n",
    "correct = [1 if a == b else 0 for a,b in zip(predictions, y)]\n",
    "acc = sum(correct) / len(correct) * 100\n",
    "print('Accuracy = {}%'.format(acc))"
   ]
  },
  {
   "cell_type": "markdown",
   "metadata": {},
   "source": [
    "Note: This is training set accuracy... not really a valid stat!"
   ]
  },
  {
   "cell_type": "markdown",
   "metadata": {},
   "source": [
    "## Regularised Logistic Regression\n",
    "\n",
    "Regularisation is a term in the cost function that causes the algorithm to prefer \"simpler\" models (in this case, models will smaller coefficients). The theory is that this helps to minimize overfitting and improve the model's ability to generalize. "
   ]
  },
  {
   "cell_type": "code",
   "execution_count": 56,
   "metadata": {
    "collapsed": false
   },
   "outputs": [
    {
     "name": "stdout",
     "output_type": "stream",
     "text": [
      "118 training examples: 58 positive, 60 negative\n"
     ]
    },
    {
     "data": {
      "text/plain": [
       "<matplotlib.text.Text at 0x1196ee400>"
      ]
     },
     "execution_count": 56,
     "metadata": {},
     "output_type": "execute_result"
    },
    {
     "data": {
      "image/png": "[encoded data removed]",
      "text/plain": [
       "<matplotlib.figure.Figure at 0x117b31438>"
      ]
     },
     "metadata": {},
     "output_type": "display_data"
    }
   ],
   "source": [
    "# data: quality tests on microchips resulting in them being accepted or not\n",
    "\n",
    "path = ex_dir(2) + '/ex2data2.txt'\n",
    "data2 = pd.read_csv(path, header=None, names=['Test 1', 'Test 2', 'Accepted'])  \n",
    "positive = data2[(data2['Accepted'] == 1)]\n",
    "negative = data2[(data2['Accepted'] == 0)]\n",
    "print('{} training examples: {} positive, {} negative'.format(\n",
    "        len(data2), len(positive), len(negative)))\n",
    "\n",
    "fig, ax = plt.subplots(figsize=(10,6))  \n",
    "ax.scatter(positive['Test 1'], positive['Test 2'], s=50, c='g', marker='o', label='Accepted')  \n",
    "ax.scatter(negative['Test 1'], negative['Test 2'], s=50, c='r', marker='x', label='Rejected')  \n",
    "ax.legend()  \n",
    "ax.set_xlabel('Test 1 Score')  \n",
    "ax.set_ylabel('Test 2 Score')  "
   ]
  },
  {
   "cell_type": "markdown",
   "metadata": {},
   "source": [
    "Observation from plot: No linear boundary => polynomial features required"
   ]
  },
  {
   "cell_type": "markdown",
   "metadata": {},
   "source": [
    "### Additional features: polynomial terms"
   ]
  },
  {
   "cell_type": "code",
   "execution_count": 58,
   "metadata": {
    "collapsed": false
   },
   "outputs": [
    {
     "data": {
      "text/html": [
       "<div>\n",
       "<table border=\"1\" class=\"dataframe\">\n",
       "  <thead>\n",
       "    <tr style=\"text-align: right;\">\n",
       "      <th></th>\n",
       "      <th>Ones</th>\n",
       "      <th>Accepted</th>\n",
       "      <th>p10</th>\n",
       "      <th>p01</th>\n",
       "      <th>p20</th>\n",
       "      <th>p02</th>\n",
       "      <th>p11</th>\n",
       "      <th>p30</th>\n",
       "      <th>p03</th>\n",
       "      <th>p21</th>\n",
       "      <th>p12</th>\n",
       "      <th>p40</th>\n",
       "      <th>p04</th>\n",
       "      <th>p31</th>\n",
       "      <th>p13</th>\n",
       "      <th>p22</th>\n",
       "    </tr>\n",
       "  </thead>\n",
       "  <tbody>\n",
       "    <tr>\n",
       "      <th>0</th>\n",
       "      <td>1</td>\n",
       "      <td>1</td>\n",
       "      <td>0.051267</td>\n",
       "      <td>0.69956</td>\n",
       "      <td>0.002628</td>\n",
       "      <td>0.489384</td>\n",
       "      <td>0.035864</td>\n",
       "      <td>0.000135</td>\n",
       "      <td>0.342354</td>\n",
       "      <td>0.001839</td>\n",
       "      <td>0.025089</td>\n",
       "      <td>0.000007</td>\n",
       "      <td>0.239497</td>\n",
       "      <td>0.000094</td>\n",
       "      <td>0.017551</td>\n",
       "      <td>0.001286</td>\n",
       "    </tr>\n",
       "    <tr>\n",
       "      <th>1</th>\n",
       "      <td>1</td>\n",
       "      <td>1</td>\n",
       "      <td>-0.092742</td>\n",
       "      <td>0.68494</td>\n",
       "      <td>0.008601</td>\n",
       "      <td>0.469143</td>\n",
       "      <td>-0.063523</td>\n",
       "      <td>-0.000798</td>\n",
       "      <td>0.321335</td>\n",
       "      <td>0.005891</td>\n",
       "      <td>-0.043509</td>\n",
       "      <td>0.000074</td>\n",
       "      <td>0.220095</td>\n",
       "      <td>-0.000546</td>\n",
       "      <td>-0.029801</td>\n",
       "      <td>0.004035</td>\n",
       "    </tr>\n",
       "    <tr>\n",
       "      <th>2</th>\n",
       "      <td>1</td>\n",
       "      <td>1</td>\n",
       "      <td>-0.213710</td>\n",
       "      <td>0.69225</td>\n",
       "      <td>0.045672</td>\n",
       "      <td>0.479210</td>\n",
       "      <td>-0.147941</td>\n",
       "      <td>-0.009761</td>\n",
       "      <td>0.331733</td>\n",
       "      <td>0.031616</td>\n",
       "      <td>-0.102412</td>\n",
       "      <td>0.002086</td>\n",
       "      <td>0.229642</td>\n",
       "      <td>-0.006757</td>\n",
       "      <td>-0.070895</td>\n",
       "      <td>0.021886</td>\n",
       "    </tr>\n",
       "    <tr>\n",
       "      <th>3</th>\n",
       "      <td>1</td>\n",
       "      <td>1</td>\n",
       "      <td>-0.375000</td>\n",
       "      <td>0.50219</td>\n",
       "      <td>0.140625</td>\n",
       "      <td>0.252195</td>\n",
       "      <td>-0.188321</td>\n",
       "      <td>-0.052734</td>\n",
       "      <td>0.126650</td>\n",
       "      <td>0.070620</td>\n",
       "      <td>-0.094573</td>\n",
       "      <td>0.019775</td>\n",
       "      <td>0.063602</td>\n",
       "      <td>-0.026483</td>\n",
       "      <td>-0.047494</td>\n",
       "      <td>0.035465</td>\n",
       "    </tr>\n",
       "    <tr>\n",
       "      <th>4</th>\n",
       "      <td>1</td>\n",
       "      <td>1</td>\n",
       "      <td>-0.513250</td>\n",
       "      <td>0.46564</td>\n",
       "      <td>0.263426</td>\n",
       "      <td>0.216821</td>\n",
       "      <td>-0.238990</td>\n",
       "      <td>-0.135203</td>\n",
       "      <td>0.100960</td>\n",
       "      <td>0.122661</td>\n",
       "      <td>-0.111283</td>\n",
       "      <td>0.069393</td>\n",
       "      <td>0.047011</td>\n",
       "      <td>-0.062956</td>\n",
       "      <td>-0.051818</td>\n",
       "      <td>0.057116</td>\n",
       "    </tr>\n",
       "  </tbody>\n",
       "</table>\n",
       "</div>"
      ],
      "text/plain": [
       "   Ones  Accepted       p10      p01       p20       p02       p11       p30  \\\n",
       "0     1         1  0.051267  0.69956  0.002628  0.489384  0.035864  0.000135   \n",
       "1     1         1 -0.092742  0.68494  0.008601  0.469143 -0.063523 -0.000798   \n",
       "2     1         1 -0.213710  0.69225  0.045672  0.479210 -0.147941 -0.009761   \n",
       "3     1         1 -0.375000  0.50219  0.140625  0.252195 -0.188321 -0.052734   \n",
       "4     1         1 -0.513250  0.46564  0.263426  0.216821 -0.238990 -0.135203   \n",
       "\n",
       "        p03       p21       p12       p40       p04       p31       p13  \\\n",
       "0  0.342354  0.001839  0.025089  0.000007  0.239497  0.000094  0.017551   \n",
       "1  0.321335  0.005891 -0.043509  0.000074  0.220095 -0.000546 -0.029801   \n",
       "2  0.331733  0.031616 -0.102412  0.002086  0.229642 -0.006757 -0.070895   \n",
       "3  0.126650  0.070620 -0.094573  0.019775  0.063602 -0.026483 -0.047494   \n",
       "4  0.100960  0.122661 -0.111283  0.069393  0.047011 -0.062956 -0.051818   \n",
       "\n",
       "        p22  \n",
       "0  0.001286  \n",
       "1  0.004035  \n",
       "2  0.021886  \n",
       "3  0.035465  \n",
       "4  0.057116  "
      ]
     },
     "execution_count": 58,
     "metadata": {},
     "output_type": "execute_result"
    }
   ],
   "source": [
    "degree = 5\n",
    "x1, x2 = data2['Test 1'], data2['Test 2']\n",
    "if not 'Ones' in data2:\n",
    "    data2.insert(0, 'Ones', 1)\n",
    "\n",
    "# Add polynomial terms\n",
    "for i in range(degree):\n",
    "    for j in range(i):\n",
    "        feature_label1 = 'p{}{}'.format(i-j, j)\n",
    "        if feature_label1 not in data2:\n",
    "            data2[feature_label1] = np.power(x1, i-j) * np.power(x2, j)\n",
    "        \n",
    "        feature_label2 = 'p{}{}'.format(j, i-j)\n",
    "        if feature_label2 not in data2:\n",
    "            data2[feature_label2] = np.power(x1, j) * np.power(x2, i-j)\n",
    "\n",
    "# Remove original columns\n",
    "data2.drop('Test 1', axis=1, inplace=True)  \n",
    "data2.drop('Test 2', axis=1, inplace=True)\n",
    "\n",
    "data2.head()"
   ]
  },
  {
   "cell_type": "markdown",
   "metadata": {},
   "source": [
    "### Cost and gradient descent"
   ]
  },
  {
   "cell_type": "code",
   "execution_count": 61,
   "metadata": {
    "collapsed": true
   },
   "outputs": [],
   "source": [
    "def cost(X, y, theta, learning_rate):\n",
    "    h_x = sigmoid(X * theta.T)\n",
    "    term1 = -y.T * (np.log(h_x))\n",
    "    term2 = (1 - y).T * (np.log(1 - h_x))\n",
    "    # Note: don't forget to remove theta for intercept term\n",
    "    reg = learning_rate / (2*m) * np.sum(np.power(theta[:, 1:], 2))\n",
    "    return (term1 - term2)[0,0] / len(X) + reg\n",
    "\n",
    "def gradient(X, y, theta, learning_rate):\n",
    "    print('theta.shape', theta.shape)\n",
    "    parameters = int(theta.ravel().shape[1])\n",
    "    grad = np.zeros(parameters)\n",
    "    \n",
    "    error = sigmoid(X * theta.T) - y\n",
    "\n",
    "    for i in range(parameters):\n",
    "        term = np.multiply(error, X[:,i])\n",
    "        grad[i] = np.sum(term) / X.shape[0]\n",
    "        if i != 0:\n",
    "            grad[i] += learning_rate / X.shape[0] * theta[i]\n",
    "\n",
    "    return grad"
   ]
  },
  {
   "cell_type": "code",
   "execution_count": null,
   "metadata": {
    "collapsed": true
   },
   "outputs": [],
   "source": []
  }
 ],
 "metadata": {
  "kernelspec": {
   "display_name": "Python 3",
   "language": "python",
   "name": "python3"
  },
  "language_info": {
   "codemirror_mode": {
    "name": "ipython",
    "version": 3
   },
   "file_extension": ".py",
   "mimetype": "text/x-python",
   "name": "python",
   "nbconvert_exporter": "python",
   "pygments_lexer": "ipython3",
   "version": "3.5.1"
  }
 },
 "nbformat": 4,
 "nbformat_minor": 0
}
