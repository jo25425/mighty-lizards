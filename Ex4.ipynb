{
 "cells": [
  {
   "cell_type": "markdown",
   "metadata": {
    "collapsed": true
   },
   "source": [
    "# Machine Learning Exercises in Python\n",
    "# Part 4: Multivariate Logistic Regression\n",
    "\n",
    "http://www.johnwittenauer.net/machine-learning-exercises-in-python-part-4/"
   ]
  },
  {
   "cell_type": "code",
   "execution_count": 31,
   "metadata": {
    "collapsed": false,
    "scrolled": true
   },
   "outputs": [
    {
     "name": "stdout",
     "output_type": "stream",
     "text": [
      "/Users/joanne\n"
     ]
    }
   ],
   "source": [
    "import os\n",
    "import numpy as np\n",
    "import pandas as pd\n",
    "import matplotlib.pyplot as plt\n",
    "from scipy.io import loadmat\n",
    "\n",
    "%matplotlib inline\n",
    "%cd ~\n",
    "\n",
    "ex_dir = lambda n: './courses/Machine Learning/machine-learning-ex{}/ex{}'.format(n, n)"
   ]
  },
  {
   "cell_type": "markdown",
   "metadata": {},
   "source": [
    "## Visualising the data"
   ]
  },
  {
   "cell_type": "code",
   "execution_count": 33,
   "metadata": {
    "collapsed": false
   },
   "outputs": [
    {
     "data": {
      "text/plain": [
       "{'X': array([[ 0.,  0.,  0., ...,  0.,  0.,  0.],\n",
       "        [ 0.,  0.,  0., ...,  0.,  0.,  0.],\n",
       "        [ 0.,  0.,  0., ...,  0.,  0.,  0.],\n",
       "        ..., \n",
       "        [ 0.,  0.,  0., ...,  0.,  0.,  0.],\n",
       "        [ 0.,  0.,  0., ...,  0.,  0.,  0.],\n",
       "        [ 0.,  0.,  0., ...,  0.,  0.,  0.]]),\n",
       " '__globals__': [],\n",
       " '__header__': b'MATLAB 5.0 MAT-file, Platform: GLNXA64, Created on: Sun Oct 16 13:09:09 2011',\n",
       " '__version__': '1.0',\n",
       " 'y': array([[10],\n",
       "        [10],\n",
       "        [10],\n",
       "        ..., \n",
       "        [ 9],\n",
       "        [ 9],\n",
       "        [ 9]], dtype=uint8)}"
      ]
     },
     "execution_count": 33,
     "metadata": {},
     "output_type": "execute_result"
    }
   ],
   "source": [
    "path = os.path.join(ex_dir(3), 'ex3data1.mat')\n",
    "data = loadmat(path)\n",
    "data"
   ]
  },
  {
   "cell_type": "markdown",
   "metadata": {},
   "source": [
    "There are 5000 training examples in `ex3data1.mat`, where each training example is a 20 pixel by 20 pixel grayscale image of the digit. Each pixel is represented by a floating point number indicating the grayscale intensity at that location. The 20 by 20 grid of pixels is “unrolled” into a 400-dimensional vector. Each of these training examples becomes a single row in our data matrix `X`.\n",
    "\n",
    "The second part of the training set is a 5000-dimensional vector `y` that contains labels for the training set, that is, digits. The digit zero is mapped to the value ten."
   ]
  },
  {
   "cell_type": "code",
   "execution_count": 283,
   "metadata": {
    "collapsed": false
   },
   "outputs": [
    {
     "data": {
      "text/plain": [
       "((5000, 400), (5000, 1))"
      ]
     },
     "execution_count": 283,
     "metadata": {},
     "output_type": "execute_result"
    }
   ],
   "source": [
    "X, y = data['X'], data['y']\n",
    "X.shape, y.shape\n",
    "# TODO: Try to actually visualise the data"
   ]
  },
  {
   "cell_type": "markdown",
   "metadata": {},
   "source": [
    "## Sigmoid, cost and gradient descent functions"
   ]
  },
  {
   "cell_type": "code",
   "execution_count": 284,
   "metadata": {
    "collapsed": false
   },
   "outputs": [],
   "source": [
    "X = np.matrix(X)\n",
    "y = np.matrix(y)"
   ]
  },
  {
   "cell_type": "code",
   "execution_count": 285,
   "metadata": {
    "collapsed": false
   },
   "outputs": [
    {
     "name": "stdout",
     "output_type": "stream",
     "text": [
      "X padded with 0s (5000, 400) -> (5000, 401)\n"
     ]
    }
   ],
   "source": [
    "if X.shape[1] <= 400:\n",
    "    before = X.shape\n",
    "    X = np.insert(X, 0, values=np.ones(X.shape[0]), axis=1)\n",
    "    after = X.shape\n",
    "    print('X padded with 0s {} -> {}'.format(before, after))\n",
    "else:\n",
    "    print('X already padded')"
   ]
  },
  {
   "cell_type": "code",
   "execution_count": 334,
   "metadata": {
    "collapsed": false
   },
   "outputs": [],
   "source": [
    "def sigmoid(z):\n",
    "    return 1. / (1. + np.exp(-z))\n",
    "\n",
    "# Let's take matrices in\n",
    "def cost(theta, X, y, learning_rate):\n",
    "    m = X.shape[0]\n",
    "    h_x = sigmoid(X * theta.T)\n",
    "    first = np.multiply(-y, np.log(h_x))\n",
    "    second = np.multiply((1 - y), np.log(1 - h_x))\n",
    "    reg = (learning_rate / (2*m)) * np.sum(theta * theta.T)\n",
    "    return (1 / m) * np.sum(first - second) + reg"
   ]
  },
  {
   "cell_type": "code",
   "execution_count": 335,
   "metadata": {
    "collapsed": false
   },
   "outputs": [
    {
     "data": {
      "text/plain": [
       "-17.051420641774662"
      ]
     },
     "execution_count": 335,
     "metadata": {},
     "output_type": "execute_result"
    }
   ],
   "source": [
    "theta = np.matrix(np.zeros(X.shape[1]))\n",
    "cost(theta, X, y, 1)"
   ]
  },
  {
   "cell_type": "code",
   "execution_count": 336,
   "metadata": {
    "collapsed": true
   },
   "outputs": [],
   "source": [
    "def gradient_with_loop(theta, X, y, learning_rate):\n",
    "    parameters = int(theta.ravel().shape[1])\n",
    "    grad = np.zeros(parameters)\n",
    "\n",
    "    error = sigmoid(X * theta.T) - y\n",
    "\n",
    "    for i in range(parameters):\n",
    "        term = np.multiply(error, X[:,i])\n",
    "        if (i == 0):\n",
    "            grad[i] = np.sum(term) / len(X)\n",
    "        else:\n",
    "            grad[i] = (np.sum(term) / len(X)) + ((learning_rate / len(X)) * theta[:,i])\n",
    "    return grad"
   ]
  },
  {
   "cell_type": "code",
   "execution_count": 337,
   "metadata": {
    "collapsed": false
   },
   "outputs": [],
   "source": [
    "def gradient(theta, X, y, learning_rate):\n",
    "    error = sigmoid(X * theta.T) - y\n",
    "    m = len(X)\n",
    "    grad = (error.T * X) / m\n",
    "    reg = (learning_rate / m) * ([0] + np.hstack([[[0]], theta[:,1:]]))\n",
    "    grad += reg\n",
    "    return np.asarray(grad).ravel()"
   ]
  },
  {
   "cell_type": "code",
   "execution_count": 353,
   "metadata": {
    "collapsed": false
   },
   "outputs": [
    {
     "name": "stdout",
     "output_type": "stream",
     "text": [
      "With for loop: -255.287455748\n",
      "Vectorised: -255.287455748\n"
     ]
    }
   ],
   "source": [
    "theta_test = np.matrix(np.random.randint(0, 10 + 1, X.shape[1]))\n",
    "print('With for loop:', gradient_with_loop(theta_test, X, y, 1).sum())\n",
    "print('Vectorised:', gradient(theta_test, X, y, 1).sum())"
   ]
  },
  {
   "cell_type": "markdown",
   "metadata": {},
   "source": [
    "## One vs. all classifier"
   ]
  },
  {
   "cell_type": "code",
   "execution_count": 356,
   "metadata": {
    "collapsed": true
   },
   "outputs": [],
   "source": [
    "from scipy.optimize import minimize\n",
    "\n",
    "# Write some wrappers to match formats used by the scipy.optimize function\n",
    "cost_wrapper = lambda theta, X, y, lr: cost(np.matrix(theta), X, y, lr)\n",
    "gradient_wrapper = lambda theta, X, y, lr: gradient(np.matrix(theta), X, y, lr)\n",
    "\n",
    "def one_vs_all(X, y, num_labels, learning_rate):\n",
    "    m, n = X.shape\n",
    "    \n",
    "    # k * (n+1) for parameters of each classifier\n",
    "    all_theta = np.zeros((num_labels, n))\n",
    "    \n",
    "    for i in range(1, num_labels + 1):\n",
    "        theta_tmp = np.zeros(n)\n",
    "        y_i = np.array([1 if label == i else 0 for label in y]).reshape((m, 1))\n",
    "        \n",
    "        # minimise the objective function\n",
    "        fmin = minimize(\n",
    "            fun=cost_wrapper, \n",
    "            x0=theta_tmp, \n",
    "            args=(X, y_i, learning_rate), \n",
    "            method='TNC', \n",
    "            jac=gradient_wrapper)\n",
    "        \n",
    "        all_theta[i-1,:] = fmin.x\n",
    "        \n",
    "    return all_theta\n",
    "    "
   ]
  },
  {
   "cell_type": "code",
   "execution_count": 357,
   "metadata": {
    "collapsed": false
   },
   "outputs": [
    {
     "name": "stdout",
     "output_type": "stream",
     "text": [
      "CPU times: user 14.4 s, sys: 326 ms, total: 14.7 s\n",
      "Wall time: 9.4 s\n"
     ]
    }
   ],
   "source": [
    "%%time\n",
    "all_theta = one_vs_all(X, y, 10, 1)"
   ]
  },
  {
   "cell_type": "markdown",
   "metadata": {},
   "source": [
    "## Predicting labels"
   ]
  },
  {
   "cell_type": "code",
   "execution_count": 359,
   "metadata": {
    "collapsed": true
   },
   "outputs": [],
   "source": [
    "def predict_all(X, all_theta):  \n",
    "    rows = X.shape[0]\n",
    "    params = X.shape[1]\n",
    "    num_labels = all_theta.shape[0]\n",
    "\n",
    "    # same as before, insert ones to match the shape\n",
    "    X = np.insert(X, 0, values=np.ones(rows), axis=1)\n",
    "\n",
    "    # convert to matrices\n",
    "    X = np.matrix(X)\n",
    "    all_theta = np.matrix(all_theta)\n",
    "\n",
    "    # compute the class probability for each class on each training instance\n",
    "    h = sigmoid(X * all_theta.T)\n",
    "\n",
    "    # create array of the index with the maximum probability\n",
    "    h_argmax = np.argmax(h, axis=1)\n",
    "\n",
    "    # because our array was zero-indexed we need to add one for the true label prediction\n",
    "    h_argmax = h_argmax + 1\n",
    "\n",
    "    return h_argmax"
   ]
  },
  {
   "cell_type": "code",
   "execution_count": 361,
   "metadata": {
    "collapsed": false
   },
   "outputs": [
    {
     "name": "stdout",
     "output_type": "stream",
     "text": [
      "Training set accuracy = 94.42%\n"
     ]
    }
   ],
   "source": [
    "y_pred = predict_all(data['X'], all_theta)\n",
    "correct = [1 if a == b else 0 for (a,b) in zip(y_pred, data['y'])]\n",
    "accuracy = (sum(map(int, correct))) / float(len(correct))\n",
    "print('Training set accuracy = {0}%'.format(accuracy * 100))"
   ]
  },
  {
   "cell_type": "code",
   "execution_count": null,
   "metadata": {
    "collapsed": true
   },
   "outputs": [],
   "source": []
  }
 ],
 "metadata": {
  "kernelspec": {
   "display_name": "Python 3",
   "language": "python",
   "name": "python3"
  },
  "language_info": {
   "codemirror_mode": {
    "name": "ipython",
    "version": 3
   },
   "file_extension": ".py",
   "mimetype": "text/x-python",
   "name": "python",
   "nbconvert_exporter": "python",
   "pygments_lexer": "ipython3",
   "version": "3.5.1"
  }
 },
 "nbformat": 4,
 "nbformat_minor": 0
}
